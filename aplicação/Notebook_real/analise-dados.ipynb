{
 "cells": [
  {
   "cell_type": "code",
   "execution_count": 1,
   "metadata": {},
   "outputs": [],
   "source": [
    "import pandas as pd\n",
    "import numpy as np\n",
    "import matplotlib.pyplot as plt\n",
    "from sklearn.preprocessing import StandardScaler\n",
    "from sklearn.model_selection import train_test_split\n",
    "from sklearn.neighbors import KNeighborsClassifier"
   ]
  },
  {
   "cell_type": "code",
   "execution_count": 2,
   "metadata": {},
   "outputs": [
    {
     "data": {
      "text/html": [
       "<div>\n",
       "<style scoped>\n",
       "    .dataframe tbody tr th:only-of-type {\n",
       "        vertical-align: middle;\n",
       "    }\n",
       "\n",
       "    .dataframe tbody tr th {\n",
       "        vertical-align: top;\n",
       "    }\n",
       "\n",
       "    .dataframe thead th {\n",
       "        text-align: right;\n",
       "    }\n",
       "</style>\n",
       "<table border=\"1\" class=\"dataframe\">\n",
       "  <thead>\n",
       "    <tr style=\"text-align: right;\">\n",
       "      <th></th>\n",
       "      <th>Question1</th>\n",
       "      <th>Question2</th>\n",
       "      <th>Question3</th>\n",
       "      <th>Question4</th>\n",
       "      <th>Question5</th>\n",
       "      <th>Question6</th>\n",
       "      <th>Question7</th>\n",
       "      <th>Question8</th>\n",
       "      <th>Question9</th>\n",
       "      <th>Question10</th>\n",
       "      <th>Question11</th>\n",
       "      <th>Question12</th>\n",
       "      <th>Content</th>\n",
       "    </tr>\n",
       "  </thead>\n",
       "  <tbody>\n",
       "    <tr>\n",
       "      <th>0</th>\n",
       "      <td>52</td>\n",
       "      <td>53</td>\n",
       "      <td>60</td>\n",
       "      <td>62</td>\n",
       "      <td>65</td>\n",
       "      <td>70</td>\n",
       "      <td>73</td>\n",
       "      <td>79</td>\n",
       "      <td>82</td>\n",
       "      <td>86</td>\n",
       "      <td>89</td>\n",
       "      <td>93</td>\n",
       "      <td>5</td>\n",
       "    </tr>\n",
       "    <tr>\n",
       "      <th>1</th>\n",
       "      <td>50</td>\n",
       "      <td>53</td>\n",
       "      <td>60</td>\n",
       "      <td>62</td>\n",
       "      <td>68</td>\n",
       "      <td>70</td>\n",
       "      <td>73</td>\n",
       "      <td>77</td>\n",
       "      <td>83</td>\n",
       "      <td>87</td>\n",
       "      <td>91</td>\n",
       "      <td>94</td>\n",
       "      <td>5</td>\n",
       "    </tr>\n",
       "    <tr>\n",
       "      <th>2</th>\n",
       "      <td>51</td>\n",
       "      <td>53</td>\n",
       "      <td>60</td>\n",
       "      <td>64</td>\n",
       "      <td>68</td>\n",
       "      <td>71</td>\n",
       "      <td>76</td>\n",
       "      <td>80</td>\n",
       "      <td>84</td>\n",
       "      <td>88</td>\n",
       "      <td>90</td>\n",
       "      <td>95</td>\n",
       "      <td>6</td>\n",
       "    </tr>\n",
       "    <tr>\n",
       "      <th>3</th>\n",
       "      <td>51</td>\n",
       "      <td>53</td>\n",
       "      <td>60</td>\n",
       "      <td>64</td>\n",
       "      <td>68</td>\n",
       "      <td>71</td>\n",
       "      <td>73</td>\n",
       "      <td>80</td>\n",
       "      <td>84</td>\n",
       "      <td>85</td>\n",
       "      <td>89</td>\n",
       "      <td>95</td>\n",
       "      <td>6</td>\n",
       "    </tr>\n",
       "    <tr>\n",
       "      <th>4</th>\n",
       "      <td>49</td>\n",
       "      <td>54</td>\n",
       "      <td>60</td>\n",
       "      <td>63</td>\n",
       "      <td>66</td>\n",
       "      <td>69</td>\n",
       "      <td>76</td>\n",
       "      <td>79</td>\n",
       "      <td>84</td>\n",
       "      <td>86</td>\n",
       "      <td>90</td>\n",
       "      <td>96</td>\n",
       "      <td>4</td>\n",
       "    </tr>\n",
       "  </tbody>\n",
       "</table>\n",
       "</div>"
      ],
      "text/plain": [
       "   Question1  Question2  Question3  Question4  Question5  Question6  \\\n",
       "0         52         53         60         62         65         70   \n",
       "1         50         53         60         62         68         70   \n",
       "2         51         53         60         64         68         71   \n",
       "3         51         53         60         64         68         71   \n",
       "4         49         54         60         63         66         69   \n",
       "\n",
       "   Question7  Question8  Question9  Question10  Question11  Question12  \\\n",
       "0         73         79         82          86          89          93   \n",
       "1         73         77         83          87          91          94   \n",
       "2         76         80         84          88          90          95   \n",
       "3         73         80         84          85          89          95   \n",
       "4         76         79         84          86          90          96   \n",
       "\n",
       "   Content  \n",
       "0        5  \n",
       "1        5  \n",
       "2        6  \n",
       "3        6  \n",
       "4        4  "
      ]
     },
     "execution_count": 2,
     "metadata": {},
     "output_type": "execute_result"
    }
   ],
   "source": [
    "# Ultilizando a biblioteca pandas para importação dos dados\n",
    "\n",
    "#Carregando Dataset\n",
    "df = pd.read_csv('alternativas-real.csv',engine='python', sep=',')\n",
    "\n",
    "#Lendo 5 primeiras linhas of the dataframe.\n",
    "df.head()"
   ]
  },
  {
   "cell_type": "code",
   "execution_count": 3,
   "metadata": {},
   "outputs": [
    {
     "data": {
      "text/plain": [
       "(95, 13)"
      ]
     },
     "execution_count": 3,
     "metadata": {},
     "output_type": "execute_result"
    }
   ],
   "source": [
    "#Analisando Shape da Matriz\n",
    "df.shape"
   ]
  },
  {
   "cell_type": "code",
   "execution_count": 4,
   "metadata": {},
   "outputs": [],
   "source": [
    "#Separando \"Features\" e Variável \"Target\"\n",
    "X = df.drop('Content',axis=1).values\n",
    "y = df['Content'].values\n",
    "\n",
    "#scaler = StandardScaler()\n",
    "#X = scaler.fit_transform(X)"
   ]
  },
  {
   "cell_type": "code",
   "execution_count": 5,
   "metadata": {},
   "outputs": [],
   "source": [
    "#Separando base em treino e teste (30% para Teste, 70% para Treino)\n",
    "X_train,X_test,y_train,y_test = train_test_split(X,y,test_size=0.2,random_state=42, stratify=y)"
   ]
  },
  {
   "cell_type": "code",
   "execution_count": 6,
   "metadata": {},
   "outputs": [],
   "source": [
    "#Configurando base para avaliar Acurácia\n",
    "neighbors = np.arange(1,9)\n",
    "train_accuracy =np.empty(len(neighbors))\n",
    "test_accuracy = np.empty(len(neighbors))"
   ]
  },
  {
   "cell_type": "code",
   "execution_count": 7,
   "metadata": {},
   "outputs": [],
   "source": [
    "for i,k in enumerate(neighbors):\n",
    "\n",
    "    #Configurando knn classifier com k vizinho\n",
    "    knn = KNeighborsClassifier(n_neighbors=k)\n",
    "\n",
    "    #Treinando o Modelo\n",
    "    knn.fit(X_train, y_train)  \n",
    "\n",
    "    #Calculando acurácia para conjunto de treinamento\n",
    "    train_accuracy[i] = knn.score(X_train, y_train)  \n",
    "\n",
    "    #Calculando acurácia para conjunto de teste\n",
    "    test_accuracy[i] = knn.score(X_test, y_test)"
   ]
  },
  {
   "cell_type": "code",
   "execution_count": 8,
   "metadata": {},
   "outputs": [
    {
     "data": {
      "image/png": "[encoded data removed]",
      "text/plain": [
       "<Figure size 432x288 with 1 Axes>"
      ]
     },
     "metadata": {
      "needs_background": "light"
     },
     "output_type": "display_data"
    }
   ],
   "source": [
    "#Generate plot\n",
    "plt.title('Acurácia em Função do Número de Vizinhos')\n",
    "plt.plot(neighbors, test_accuracy, label='Acurácia - Teste')\n",
    "plt.plot(neighbors, train_accuracy, label='Acurácia - Treino')\n",
    "plt.legend()\n",
    "plt.xlabel('Número de Vizinhos')\n",
    "plt.ylabel('Acurácia')\n",
    "plt.show()"
   ]
  },
  {
   "cell_type": "code",
   "execution_count": 9,
   "metadata": {},
   "outputs": [
    {
     "name": "stdout",
     "output_type": "stream",
     "text": [
      "Acurácia do Modelo = 0.7368421052631579\n"
     ]
    }
   ],
   "source": [
    "knn = KNeighborsClassifier(n_neighbors=5)\n",
    "knn.fit(X_train,y_train)\n",
    "print(\"Acurácia do Modelo =\",knn.score(X_test,y_test))"
   ]
  }
 ],
 "metadata": {
  "kernelspec": {
   "display_name": "Python 3",
   "language": "python",
   "name": "python3"
  },
  "language_info": {
   "codemirror_mode": {
    "name": "ipython",
    "version": 3
   },
   "file_extension": ".py",
   "mimetype": "text/x-python",
   "name": "python",
   "nbconvert_exporter": "python",
   "pygments_lexer": "ipython3",
   "version": "3.7.6"
  }
 },
 "nbformat": 4,
 "nbformat_minor": 4
}
